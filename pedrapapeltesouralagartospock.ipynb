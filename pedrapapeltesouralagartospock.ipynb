{
  "nbformat": 4,
  "nbformat_minor": 0,
  "metadata": {
    "colab": {
      "provenance": [],
      "authorship_tag": "ABX9TyN3LZFmRXZAQS3rqgrqj5lx",
      "include_colab_link": true
    },
    "kernelspec": {
      "name": "python3",
      "display_name": "Python 3"
    },
    "language_info": {
      "name": "python"
    }
  },
  "cells": [
    {
      "cell_type": "markdown",
      "metadata": {
        "id": "view-in-github",
        "colab_type": "text"
      },
      "source": [
        "<a href=\"https://colab.research.google.com/github/duduslugee/aulas-andre/blob/main/pedrapapeltesouralagartospock.ipynb\" target=\"_parent\"><img src=\"https://colab.research.google.com/assets/colab-badge.svg\" alt=\"Open In Colab\"/></a>"
      ]
    },
    {
      "cell_type": "code",
      "execution_count": null,
      "metadata": {
        "colab": {
          "base_uri": "https://localhost:8080/",
          "height": 1000
        },
        "id": "uFmTZhZnJISG",
        "outputId": "cef8440e-c447-4724-f19f-e1f4fee61708"
      },
      "outputs": [
        {
          "output_type": "stream",
          "name": "stdout",
          "text": [
            "\n",
            "Escolha uma opção:\n",
            "1. Pedra\n",
            "2. Papel\n",
            "3. Tesoura\n",
            "4. Lagarto\n",
            "5. Spock\n",
            "Digite o número correspondente: 1\n",
            "\n",
            "Você escolheu: Pedra\n",
            "O computador escolheu: Pedra\n",
            "Empate!\n",
            "\n",
            "Deseja jogar novamente? (s/n): s\n",
            "\n",
            "Escolha uma opção:\n",
            "1. Pedra\n",
            "2. Papel\n",
            "3. Tesoura\n",
            "4. Lagarto\n",
            "5. Spock\n",
            "Digite o número correspondente: 2\n",
            "\n",
            "Você escolheu: Papel\n",
            "O computador escolheu: Pedra\n",
            "Você venceu!\n",
            "\n",
            "Deseja jogar novamente? (s/n): s\n",
            "\n",
            "Escolha uma opção:\n",
            "1. Pedra\n",
            "2. Papel\n",
            "3. Tesoura\n",
            "4. Lagarto\n",
            "5. Spock\n",
            "Digite o número correspondente: 5\n",
            "\n",
            "Você escolheu: Spock\n",
            "O computador escolheu: Spock\n",
            "Empate!\n",
            "\n",
            "Deseja jogar novamente? (s/n): s\n",
            "\n",
            "Escolha uma opção:\n",
            "1. Pedra\n",
            "2. Papel\n",
            "3. Tesoura\n",
            "4. Lagarto\n",
            "5. Spock\n",
            "Digite o número correspondente: 3\n",
            "\n",
            "Você escolheu: Tesoura\n",
            "O computador escolheu: Spock\n",
            "Você perdeu!\n",
            "\n",
            "Deseja jogar novamente? (s/n): s\n",
            "\n",
            "Escolha uma opção:\n",
            "1. Pedra\n",
            "2. Papel\n",
            "3. Tesoura\n",
            "4. Lagarto\n",
            "5. Spock\n",
            "Digite o número correspondente: 1\n",
            "\n",
            "Você escolheu: Pedra\n",
            "O computador escolheu: Lagarto\n",
            "Você venceu!\n",
            "\n",
            "Deseja jogar novamente? (s/n): s\n",
            "\n",
            "Escolha uma opção:\n",
            "1. Pedra\n",
            "2. Papel\n",
            "3. Tesoura\n",
            "4. Lagarto\n",
            "5. Spock\n",
            "Digite o número correspondente: 1\n",
            "\n",
            "Você escolheu: Pedra\n",
            "O computador escolheu: Lagarto\n",
            "Você venceu!\n",
            "\n",
            "Deseja jogar novamente? (s/n): s\n",
            "\n",
            "Escolha uma opção:\n",
            "1. Pedra\n",
            "2. Papel\n",
            "3. Tesoura\n",
            "4. Lagarto\n",
            "5. Spock\n",
            "Digite o número correspondente: 1\n",
            "\n",
            "Você escolheu: Pedra\n",
            "O computador escolheu: Pedra\n",
            "Empate!\n",
            "\n",
            "Deseja jogar novamente? (s/n): s\n",
            "\n",
            "Escolha uma opção:\n",
            "1. Pedra\n",
            "2. Papel\n",
            "3. Tesoura\n",
            "4. Lagarto\n",
            "5. Spock\n",
            "Digite o número correspondente: 1\n",
            "\n",
            "Você escolheu: Pedra\n",
            "O computador escolheu: Spock\n",
            "Você perdeu!\n"
          ]
        },
        {
          "output_type": "error",
          "ename": "KeyboardInterrupt",
          "evalue": "Interrupted by user",
          "traceback": [
            "\u001b[0;31m---------------------------------------------------------------------------\u001b[0m",
            "\u001b[0;31mKeyboardInterrupt\u001b[0m                         Traceback (most recent call last)",
            "\u001b[0;32m<ipython-input-3-9179d97d9ac3>\u001b[0m in \u001b[0;36m<cell line: 0>\u001b[0;34m()\u001b[0m\n\u001b[1;32m     40\u001b[0m     \u001b[0;32mwhile\u001b[0m \u001b[0;32mTrue\u001b[0m\u001b[0;34m:\u001b[0m\u001b[0;34m\u001b[0m\u001b[0;34m\u001b[0m\u001b[0m\n\u001b[1;32m     41\u001b[0m         \u001b[0mjogar\u001b[0m\u001b[0;34m(\u001b[0m\u001b[0;34m)\u001b[0m\u001b[0;34m\u001b[0m\u001b[0;34m\u001b[0m\u001b[0m\n\u001b[0;32m---> 42\u001b[0;31m         \u001b[0;32mif\u001b[0m \u001b[0minput\u001b[0m\u001b[0;34m(\u001b[0m\u001b[0;34m\"\\nDeseja jogar novamente? (s/n): \"\u001b[0m\u001b[0;34m)\u001b[0m\u001b[0;34m.\u001b[0m\u001b[0mlower\u001b[0m\u001b[0;34m(\u001b[0m\u001b[0;34m)\u001b[0m \u001b[0;34m!=\u001b[0m \u001b[0;34m\"s\"\u001b[0m\u001b[0;34m:\u001b[0m\u001b[0;34m\u001b[0m\u001b[0;34m\u001b[0m\u001b[0m\n\u001b[0m\u001b[1;32m     43\u001b[0m             \u001b[0;32mbreak\u001b[0m\u001b[0;34m\u001b[0m\u001b[0;34m\u001b[0m\u001b[0m\n",
            "\u001b[0;32m/usr/local/lib/python3.11/dist-packages/ipykernel/kernelbase.py\u001b[0m in \u001b[0;36mraw_input\u001b[0;34m(self, prompt)\u001b[0m\n\u001b[1;32m   1175\u001b[0m                 \u001b[0;34m\"raw_input was called, but this frontend does not support input requests.\"\u001b[0m\u001b[0;34m\u001b[0m\u001b[0;34m\u001b[0m\u001b[0m\n\u001b[1;32m   1176\u001b[0m             )\n\u001b[0;32m-> 1177\u001b[0;31m         return self._input_request(\n\u001b[0m\u001b[1;32m   1178\u001b[0m             \u001b[0mstr\u001b[0m\u001b[0;34m(\u001b[0m\u001b[0mprompt\u001b[0m\u001b[0;34m)\u001b[0m\u001b[0;34m,\u001b[0m\u001b[0;34m\u001b[0m\u001b[0;34m\u001b[0m\u001b[0m\n\u001b[1;32m   1179\u001b[0m             \u001b[0mself\u001b[0m\u001b[0;34m.\u001b[0m\u001b[0m_parent_ident\u001b[0m\u001b[0;34m[\u001b[0m\u001b[0;34m\"shell\"\u001b[0m\u001b[0;34m]\u001b[0m\u001b[0;34m,\u001b[0m\u001b[0;34m\u001b[0m\u001b[0;34m\u001b[0m\u001b[0m\n",
            "\u001b[0;32m/usr/local/lib/python3.11/dist-packages/ipykernel/kernelbase.py\u001b[0m in \u001b[0;36m_input_request\u001b[0;34m(self, prompt, ident, parent, password)\u001b[0m\n\u001b[1;32m   1217\u001b[0m             \u001b[0;32mexcept\u001b[0m \u001b[0mKeyboardInterrupt\u001b[0m\u001b[0;34m:\u001b[0m\u001b[0;34m\u001b[0m\u001b[0;34m\u001b[0m\u001b[0m\n\u001b[1;32m   1218\u001b[0m                 \u001b[0;31m# re-raise KeyboardInterrupt, to truncate traceback\u001b[0m\u001b[0;34m\u001b[0m\u001b[0;34m\u001b[0m\u001b[0m\n\u001b[0;32m-> 1219\u001b[0;31m                 \u001b[0;32mraise\u001b[0m \u001b[0mKeyboardInterrupt\u001b[0m\u001b[0;34m(\u001b[0m\u001b[0;34m\"Interrupted by user\"\u001b[0m\u001b[0;34m)\u001b[0m \u001b[0;32mfrom\u001b[0m \u001b[0;32mNone\u001b[0m\u001b[0;34m\u001b[0m\u001b[0;34m\u001b[0m\u001b[0m\n\u001b[0m\u001b[1;32m   1220\u001b[0m             \u001b[0;32mexcept\u001b[0m \u001b[0mException\u001b[0m\u001b[0;34m:\u001b[0m\u001b[0;34m\u001b[0m\u001b[0;34m\u001b[0m\u001b[0m\n\u001b[1;32m   1221\u001b[0m                 \u001b[0mself\u001b[0m\u001b[0;34m.\u001b[0m\u001b[0mlog\u001b[0m\u001b[0;34m.\u001b[0m\u001b[0mwarning\u001b[0m\u001b[0;34m(\u001b[0m\u001b[0;34m\"Invalid Message:\"\u001b[0m\u001b[0;34m,\u001b[0m \u001b[0mexc_info\u001b[0m\u001b[0;34m=\u001b[0m\u001b[0;32mTrue\u001b[0m\u001b[0;34m)\u001b[0m\u001b[0;34m\u001b[0m\u001b[0;34m\u001b[0m\u001b[0m\n",
            "\u001b[0;31mKeyboardInterrupt\u001b[0m: Interrupted by user"
          ]
        }
      ],
      "source": [
        "import random\n",
        "\n",
        "def vencedor(jogador, computador):\n",
        "    regras = {\n",
        "        \"tesoura\": [\"papel\", \"lagarto\"],\n",
        "        \"papel\": [\"pedra\", \"spock\"],\n",
        "        \"pedra\": [\"lagarto\", \"tesoura\"],\n",
        "        \"lagarto\": [\"spock\", \"papel\"],\n",
        "        \"spock\": [\"tesoura\", \"pedra\"]\n",
        "    }\n",
        "\n",
        "    if jogador == computador:\n",
        "        return \"Empate!\"\n",
        "    elif computador in regras[jogador]:\n",
        "        return \"Você venceu!\"\n",
        "    else:\n",
        "        return \"Você perdeu!\"\n",
        "\n",
        "def jogar():\n",
        "    opcoes = [\"pedra\", \"papel\", \"tesoura\", \"lagarto\", \"spock\"]\n",
        "\n",
        "    print(\"\\nEscolha uma opção:\")\n",
        "    for i, opcao in enumerate(opcoes, 1):\n",
        "        print(f\"{i}. {opcao.capitalize()}\")\n",
        "\n",
        "    escolha = int(input(\"Digite o número correspondente: \")) - 1\n",
        "    if escolha not in range(len(opcoes)):\n",
        "        print(\"Escolha inválida! Tente novamente.\")\n",
        "        return\n",
        "\n",
        "    jogador = opcoes[escolha]\n",
        "    computador = random.choice(opcoes)\n",
        "\n",
        "    print(f\"\\nVocê escolheu: {jogador.capitalize()}\")\n",
        "    print(f\"O computador escolheu: {computador.capitalize()}\")\n",
        "\n",
        "    print(vencedor(jogador, computador))\n",
        "\n",
        "if __name__ == \"__main__\":\n",
        "    while True:\n",
        "        jogar()\n",
        "        if input(\"\\nDeseja jogar novamente? (s/n): \").lower() != \"s\":\n",
        "            break\n"
      ]
    },
    {
      "cell_type": "code",
      "source": [],
      "metadata": {
        "colab": {
          "base_uri": "https://localhost:8080/",
          "height": 106
        },
        "id": "asaIqbagJMiT",
        "outputId": "7cf2bea2-e0c0-4c8c-96ff-bc9c4c73fb62"
      },
      "execution_count": null,
      "outputs": [
        {
          "output_type": "error",
          "ename": "SyntaxError",
          "evalue": "invalid syntax (<ipython-input-2-4ba203ea3176>, line 1)",
          "traceback": [
            "\u001b[0;36m  File \u001b[0;32m\"<ipython-input-2-4ba203ea3176>\"\u001b[0;36m, line \u001b[0;32m1\u001b[0m\n\u001b[0;31m    transforme esse pedra papel tesoura no mesmo de big bang theory\u001b[0m\n\u001b[0m               ^\u001b[0m\n\u001b[0;31mSyntaxError\u001b[0m\u001b[0;31m:\u001b[0m invalid syntax\n"
          ]
        }
      ]
    }
  ]
}